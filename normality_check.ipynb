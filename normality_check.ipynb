{
 "cells": [
  {
   "cell_type": "markdown",
   "id": "3193cdd6",
   "metadata": {},
   "source": [
    "# Checking for Normality in Survey Data – Code‑Along Assignment\n",
    "\n",
    "## Scenario\n",
    "You work as a data analyst for a research firm that just finished a large public‑opinion study.\n",
    "The firm collected two kinds of measurements:\n",
    "\n",
    "* **Exam scores** from a standardized training program (expected to be roughly normal).\n",
    "* **Survey completion times** in minutes for an online questionnaire (often skewed).\n",
    "\n",
    "Before running any statistical tests such as a **t‑test**, you must confirm whether each\n",
    "variable follows a normal distribution. In this assignment you will:\n",
    "\n",
    "1. Explore a CSV file that contains the data.\n",
    "2. Use visual tools (histogram, box plot, Q‑Q plot) to assess normality.\n",
    "3. Decide which statistical test is appropriate."
   ]
  },
  {
   "cell_type": "markdown",
   "id": "a267ef82",
   "metadata": {},
   "source": [
    "## Setup and Initial Inspection\n",
    "\n",
    "Download the file **`normality_check_data.csv`** and place it in the same folder as this notebook."
   ]
  },
  {
   "cell_type": "code",
   "execution_count": 1,
   "id": "16991032",
   "metadata": {},
   "outputs": [
    {
     "data": {
      "text/html": [
       "<div>\n",
       "<style scoped>\n",
       "    .dataframe tbody tr th:only-of-type {\n",
       "        vertical-align: middle;\n",
       "    }\n",
       "\n",
       "    .dataframe tbody tr th {\n",
       "        vertical-align: top;\n",
       "    }\n",
       "\n",
       "    .dataframe thead th {\n",
       "        text-align: right;\n",
       "    }\n",
       "</style>\n",
       "<table border=\"1\" class=\"dataframe\">\n",
       "  <thead>\n",
       "    <tr style=\"text-align: right;\">\n",
       "      <th></th>\n",
       "      <th>exam_score</th>\n",
       "      <th>survey_time</th>\n",
       "    </tr>\n",
       "  </thead>\n",
       "  <tbody>\n",
       "    <tr>\n",
       "      <th>0</th>\n",
       "      <td>79.967142</td>\n",
       "      <td>5.402733</td>\n",
       "    </tr>\n",
       "    <tr>\n",
       "      <th>1</th>\n",
       "      <td>73.617357</td>\n",
       "      <td>2.511673</td>\n",
       "    </tr>\n",
       "    <tr>\n",
       "      <th>2</th>\n",
       "      <td>81.476885</td>\n",
       "      <td>1.276804</td>\n",
       "    </tr>\n",
       "    <tr>\n",
       "      <th>3</th>\n",
       "      <td>90.230299</td>\n",
       "      <td>4.119086</td>\n",
       "    </tr>\n",
       "    <tr>\n",
       "      <th>4</th>\n",
       "      <td>72.658466</td>\n",
       "      <td>28.631211</td>\n",
       "    </tr>\n",
       "  </tbody>\n",
       "</table>\n",
       "</div>"
      ],
      "text/plain": [
       "   exam_score  survey_time\n",
       "0   79.967142     5.402733\n",
       "1   73.617357     2.511673\n",
       "2   81.476885     1.276804\n",
       "3   90.230299     4.119086\n",
       "4   72.658466    28.631211"
      ]
     },
     "execution_count": 1,
     "metadata": {},
     "output_type": "execute_result"
    }
   ],
   "source": [
    "import pandas as pd\n",
    "import numpy as np\n",
    "import matplotlib.pyplot as plt\n",
    "import scipy.stats as stats\n",
    "\n",
    "df = pd.read_csv('data/normality_check_data.csv')\n",
    "df.head()"
   ]
  },
  {
   "cell_type": "code",
   "execution_count": 2,
   "id": "e6de3690",
   "metadata": {},
   "outputs": [
    {
     "name": "stdout",
     "output_type": "stream",
     "text": [
      "<class 'pandas.core.frame.DataFrame'>\n",
      "RangeIndex: 100 entries, 0 to 99\n",
      "Data columns (total 2 columns):\n",
      " #   Column       Non-Null Count  Dtype  \n",
      "---  ------       --------------  -----  \n",
      " 0   exam_score   100 non-null    float64\n",
      " 1   survey_time  100 non-null    float64\n",
      "dtypes: float64(2)\n",
      "memory usage: 1.7 KB\n"
     ]
    }
   ],
   "source": [
    "df.info()"
   ]
  },
  {
   "cell_type": "code",
   "execution_count": 3,
   "id": "42cf756b",
   "metadata": {},
   "outputs": [
    {
     "data": {
      "text/html": [
       "<div>\n",
       "<style scoped>\n",
       "    .dataframe tbody tr th:only-of-type {\n",
       "        vertical-align: middle;\n",
       "    }\n",
       "\n",
       "    .dataframe tbody tr th {\n",
       "        vertical-align: top;\n",
       "    }\n",
       "\n",
       "    .dataframe thead th {\n",
       "        text-align: right;\n",
       "    }\n",
       "</style>\n",
       "<table border=\"1\" class=\"dataframe\">\n",
       "  <thead>\n",
       "    <tr style=\"text-align: right;\">\n",
       "      <th></th>\n",
       "      <th>exam_score</th>\n",
       "      <th>survey_time</th>\n",
       "    </tr>\n",
       "  </thead>\n",
       "  <tbody>\n",
       "    <tr>\n",
       "      <th>count</th>\n",
       "      <td>100.000000</td>\n",
       "      <td>100.000000</td>\n",
       "    </tr>\n",
       "    <tr>\n",
       "      <th>mean</th>\n",
       "      <td>73.961535</td>\n",
       "      <td>9.399814</td>\n",
       "    </tr>\n",
       "    <tr>\n",
       "      <th>std</th>\n",
       "      <td>9.081684</td>\n",
       "      <td>9.056003</td>\n",
       "    </tr>\n",
       "    <tr>\n",
       "      <th>min</th>\n",
       "      <td>48.802549</td>\n",
       "      <td>0.050744</td>\n",
       "    </tr>\n",
       "    <tr>\n",
       "      <th>25%</th>\n",
       "      <td>68.990943</td>\n",
       "      <td>2.761229</td>\n",
       "    </tr>\n",
       "    <tr>\n",
       "      <th>50%</th>\n",
       "      <td>73.730437</td>\n",
       "      <td>7.080751</td>\n",
       "    </tr>\n",
       "    <tr>\n",
       "      <th>75%</th>\n",
       "      <td>79.059521</td>\n",
       "      <td>11.865082</td>\n",
       "    </tr>\n",
       "    <tr>\n",
       "      <th>max</th>\n",
       "      <td>93.522782</td>\n",
       "      <td>42.440370</td>\n",
       "    </tr>\n",
       "  </tbody>\n",
       "</table>\n",
       "</div>"
      ],
      "text/plain": [
       "       exam_score  survey_time\n",
       "count  100.000000   100.000000\n",
       "mean    73.961535     9.399814\n",
       "std      9.081684     9.056003\n",
       "min     48.802549     0.050744\n",
       "25%     68.990943     2.761229\n",
       "50%     73.730437     7.080751\n",
       "75%     79.059521    11.865082\n",
       "max     93.522782    42.440370"
      ]
     },
     "execution_count": 3,
     "metadata": {},
     "output_type": "execute_result"
    }
   ],
   "source": [
    "df.describe()"
   ]
  },
  {
   "cell_type": "markdown",
   "id": "6347e6b1",
   "metadata": {},
   "source": [
    "### Questions:\n",
    "\n",
    "* How many observations are there? 5\n",
    "* Are any columns missing data? No\n",
    "* Based on `.describe()`, which variable seems more spread out? The exam_score"
   ]
  },
  {
   "cell_type": "markdown",
   "id": "19eb0f7e",
   "metadata": {},
   "source": [
    "## Part 1: Histogram Comparison\n",
    "\n",
    "Histograms reveal the general shape of each distribution."
   ]
  },
  {
   "cell_type": "code",
   "execution_count": 4,
   "id": "017e263f",
   "metadata": {},
   "outputs": [
    {
     "data": {
      "image/png": "[encoded data removed]",
      "text/plain": [
       "<Figure size 432x288 with 1 Axes>"
      ]
     },
     "metadata": {
      "needs_background": "light"
     },
     "output_type": "display_data"
    },
    {
     "data": {
      "image/png": "[encoded data removed]",
      "text/plain": [
       "<Figure size 432x288 with 1 Axes>"
      ]
     },
     "metadata": {
      "needs_background": "light"
     },
     "output_type": "display_data"
    }
   ],
   "source": [
    "# Histogram for exam scores\n",
    "plt.hist(df['exam_score'], bins=15, edgecolor='black')\n",
    "plt.title('Histogram: Exam Scores')\n",
    "plt.xlabel('Score')\n",
    "plt.ylabel('Count')\n",
    "plt.show()\n",
    "\n",
    "# Histogram for survey completion times\n",
    "plt.hist(df['survey_time'], bins=15, edgecolor='black')\n",
    "plt.title('Histogram: Survey Completion Times')\n",
    "plt.xlabel('Time (minutes)')\n",
    "plt.ylabel('Count')\n",
    "plt.show()"
   ]
  },
  {
   "cell_type": "markdown",
   "id": "921bc5f5",
   "metadata": {},
   "source": [
    "### Questions:\n",
    "\n",
    "* Which histogram looks more symmetric and bell‑shaped? Histogram: Exam Scores\n",
    "* Which histogram has a long tail? Histogram: Survey Completion Times\n",
    "* How does this support or contradict your expectations from the scenario? The exam scores follows a binomial distribution."
   ]
  },
  {
   "cell_type": "markdown",
   "id": "345a4587",
   "metadata": {},
   "source": [
    "## Part 2: Box Plot Comparison\n",
    "\n",
    "Box plots help you detect outliers and gauge symmetry."
   ]
  },
  {
   "cell_type": "code",
   "execution_count": 5,
   "id": "4f021b24",
   "metadata": {},
   "outputs": [
    {
     "data": {
      "image/png": "[encoded data removed]",
      "text/plain": [
       "<Figure size 432x288 with 1 Axes>"
      ]
     },
     "metadata": {
      "needs_background": "light"
     },
     "output_type": "display_data"
    },
    {
     "data": {
      "image/png": "[encoded data removed]",
      "text/plain": [
       "<Figure size 432x288 with 1 Axes>"
      ]
     },
     "metadata": {
      "needs_background": "light"
     },
     "output_type": "display_data"
    }
   ],
   "source": [
    "# Box plot for exam scores\n",
    "plt.boxplot(df['exam_score'], vert=False)\n",
    "plt.title('Box Plot: Exam Scores')\n",
    "plt.xlabel('Score')\n",
    "plt.show()\n",
    "\n",
    "# Box plot for survey completion times\n",
    "plt.boxplot(df['survey_time'], vert=False)\n",
    "plt.title('Box Plot: Survey Completion Times')\n",
    "plt.xlabel('Time (minutes)')\n",
    "plt.show()"
   ]
  },
  {
   "cell_type": "markdown",
   "id": "ff062cf8",
   "metadata": {},
   "source": [
    "### Questions:\n",
    "\n",
    "* Are the whiskers of each box plot roughly equal in length? No. \n",
    "* Which box plot shows potential outliers? The Box Plot: Survey Completion Times.\n",
    "* How do these findings align with the histograms? This finding aligns with the results of the survey completion times histogram."
   ]
  },
  {
   "cell_type": "markdown",
   "id": "4206fd2d",
   "metadata": {},
   "source": [
    "## Part 3: Q‑Q Plot Comparison\n",
    "\n",
    "A Q‑Q plot compares the quantiles of your data to the quantiles of a normal distribution."
   ]
  },
  {
   "cell_type": "code",
   "execution_count": 6,
   "id": "57cd70be",
   "metadata": {},
   "outputs": [
    {
     "data": {
      "image/png": "[encoded data removed]",
      "text/plain": [
       "<Figure size 432x288 with 1 Axes>"
      ]
     },
     "metadata": {
      "needs_background": "light"
     },
     "output_type": "display_data"
    },
    {
     "data": {
      "image/png": "[encoded data removed]",
      "text/plain": [
       "<Figure size 432x288 with 1 Axes>"
      ]
     },
     "metadata": {
      "needs_background": "light"
     },
     "output_type": "display_data"
    }
   ],
   "source": [
    "# Q‑Q plot for exam scores\n",
    "stats.probplot(df['exam_score'], dist='norm', plot=plt)\n",
    "plt.title('Q‑Q Plot: Exam Scores')\n",
    "plt.show()\n",
    "\n",
    "# Q‑Q plot for survey completion times\n",
    "stats.probplot(df['survey_time'], dist='norm', plot=plt)\n",
    "plt.title('Q‑Q Plot: Survey Completion Times')\n",
    "plt.show()"
   ]
  },
  {
   "cell_type": "markdown",
   "id": "e2f589d3",
   "metadata": {},
   "source": [
    "### Questions:\n",
    "\n",
    "* Do the points for exam scores follow the reference line closely? Yes. \n",
    "* Do the points for survey times curve away from the line at either end? Yes, at both ends.\n",
    "* What do these patterns indicate about normality? There is a linear relationship in the exam scores Q Q plot."
   ]
  },
  {
   "cell_type": "markdown",
   "id": "b8eb1f0e",
   "metadata": {},
   "source": [
    "## Part 4: Interpretation and Decision"
   ]
  },
  {
   "cell_type": "markdown",
   "id": "2f6538c9",
   "metadata": {},
   "source": [
    "### Questions:\n",
    "\n",
    "* Which variable appears approximately normal? The Exam Scores.\n",
    "* Is a **t‑test** appropriate for both variables? Explain. I believe it is appropriate as the t-test can evaluate the mean of one or two populations. \n",
    "* Suggest a better alternative test for the non‑normal variable (if any). z-Scores."
   ]
  },
  {
   "cell_type": "markdown",
   "id": "4617088d",
   "metadata": {},
   "source": [
    "## Part 5: Bonus – Running a T‑Test Anyway"
   ]
  },
  {
   "cell_type": "code",
   "execution_count": 7,
   "id": "6a962110",
   "metadata": {},
   "outputs": [
    {
     "name": "stdout",
     "output_type": "stream",
     "text": [
      "T‑test on Exam Scores:\n",
      "Ttest_indResult(statistic=-2.3358226052991804, pvalue=0.02050121220414108)\n",
      "\n",
      "T‑test on Survey Times:\n",
      "Ttest_indResult(statistic=-0.6982108445022693, pvalue=0.4858645320788689)\n"
     ]
    }
   ],
   "source": [
    "# Create comparison samples\n",
    "exam_score_new  = df['exam_score'] + 3          # shift mean upward\n",
    "survey_time_new = df['survey_time'] * 1.1       # increase mean by 10 %\n",
    "\n",
    "# Two‑sample t‑tests\n",
    "print('T‑test on Exam Scores:')\n",
    "print(stats.ttest_ind(df['exam_score'], exam_score_new))\n",
    "\n",
    "print('\\nT‑test on Survey Times:')\n",
    "print(stats.ttest_ind(df['survey_time'], survey_time_new))"
   ]
  },
  {
   "cell_type": "markdown",
   "id": "88131ab1",
   "metadata": {},
   "source": [
    "### Questions:\n",
    "\n",
    "* Does the exam‑score t‑test produce a significant p‑value?  Does this agree with your normality conclusion?\n",
    "* Would you trust the survey‑time t‑test result? Why or why not?\n",
    "* How could non‑normality distort the Type I error rate or confidence interval?"
   ]
  },
  {
   "cell_type": "markdown",
   "id": "53931bcb",
   "metadata": {},
   "source": [
    "## Recap\n",
    "\n",
    "**You have now:**\n",
    "\n",
    "* Loaded real data from a CSV and inspected it with `.head()`, `.info()`, and `.describe()`.\n",
    "* Visualized each variable with histograms, box plots, and Q‑Q plots.\n",
    "* Interpreted visual evidence to judge normality.\n",
    "* Discussed why normality matters for a t‑test and explored what happens when the assumption is violated."
   ]
  },
  {
   "cell_type": "markdown",
   "id": "cc2f296c",
   "metadata": {},
   "source": [
    "## Deliverables\n",
    "\n",
    "1. **Jupyter Notebook** that includes:\n",
    "   * Code cells for loading and exploring the CSV file.\n",
    "   * Plotting code for all three visual checks.\n",
    "   * Written answers beneath each “Questions” section.\n",
    "   * A final paragraph summarizing whether a t‑test is valid for each variable and what you learned.\n"
   ]
  }
 ],
 "metadata": {
  "kernelspec": {
   "display_name": "base",
   "language": "python",
   "name": "python3"
  },
  "language_info": {
   "codemirror_mode": {
    "name": "ipython",
    "version": 3
   },
   "file_extension": ".py",
   "mimetype": "text/x-python",
   "name": "python",
   "nbconvert_exporter": "python",
   "pygments_lexer": "ipython3",
   "version": "3.8.8"
  }
 },
 "nbformat": 4,
 "nbformat_minor": 5
}
